{
  "nbformat": 4,
  "nbformat_minor": 0,
  "metadata": {
    "colab": {
      "provenance": [],
      "mount_file_id": "1l-XbNl79gPFpy6kOrPTBw7oPaLaIoCo4",
      "authorship_tag": "ABX9TyPZmoG5Dab49to3IxPuLP7R",
      "include_colab_link": true
    },
    "kernelspec": {
      "name": "python3",
      "display_name": "Python 3"
    },
    "language_info": {
      "name": "python"
    }
  },
  "cells": [
    {
      "cell_type": "markdown",
      "metadata": {
        "id": "view-in-github",
        "colab_type": "text"
      },
      "source": [
        "<a href=\"https://colab.research.google.com/github/ToothlessRider/PySpark-Basics/blob/main/PySpark_Aaron_Augustine_232010002.ipynb\" target=\"_parent\"><img src=\"https://colab.research.google.com/assets/colab-badge.svg\" alt=\"Open In Colab\"/></a>"
      ]
    },
    {
      "cell_type": "markdown",
      "source": [
        "# PySpark Lab 1\n",
        "Name : Aaron Augustine\n",
        "Roll No : 232010002\n",
        "Course : SyMCA\n",
        "\n",
        "## Aim\n",
        "To answer all the questions given below on PySpark\n",
        "\n",
        "Q.1 Create pyspark session.\n",
        "\n",
        "For this first we will have to install pyspark onto the colab file"
      ],
      "metadata": {
        "id": "mDAsbYpxTXsX"
      }
    },
    {
      "cell_type": "code",
      "execution_count": 82,
      "metadata": {
        "colab": {
          "base_uri": "https://localhost:8080/",
          "height": 0
        },
        "id": "pIosHw4dTOXA",
        "outputId": "cbbdc890-fefc-4098-c636-d0ad8b64f9c2",
        "collapsed": true
      },
      "outputs": [
        {
          "output_type": "stream",
          "name": "stdout",
          "text": [
            "Requirement already satisfied: pyspark in /usr/local/lib/python3.10/dist-packages (3.5.2)\n",
            "Requirement already satisfied: py4j==0.10.9.7 in /usr/local/lib/python3.10/dist-packages (from pyspark) (0.10.9.7)\n"
          ]
        }
      ],
      "source": [
        "!apt-get install openjdk-11-jdk-headless -qq > /dev/null\n",
        "!pip install pyspark"
      ]
    },
    {
      "cell_type": "code",
      "source": [
        "# Important pyspark sql function to import\n",
        "from pyspark.sql.functions import explode, split, lit, col, when, sum, mean, skewness, kurtosis, avg"
      ],
      "metadata": {
        "id": "ka93zjZczfwV"
      },
      "execution_count": 135,
      "outputs": []
    },
    {
      "cell_type": "code",
      "source": [
        "from pyspark.sql import SparkSession\n",
        "\n",
        "spark = SparkSession.builder \\\n",
        "    .appName(\"Colab PySpark Session\") \\\n",
        "    .getOrCreate()\n",
        "\n",
        "spark"
      ],
      "metadata": {
        "colab": {
          "base_uri": "https://localhost:8080/",
          "height": 219
        },
        "id": "sQqBAabJUjN5",
        "outputId": "03b15962-c5ec-4567-8d29-18216a2337e6"
      },
      "execution_count": 83,
      "outputs": [
        {
          "output_type": "execute_result",
          "data": {
            "text/plain": [
              "<pyspark.sql.session.SparkSession at 0x7b1cd03628f0>"
            ],
            "text/html": [
              "\n",
              "            <div>\n",
              "                <p><b>SparkSession - in-memory</b></p>\n",
              "                \n",
              "        <div>\n",
              "            <p><b>SparkContext</b></p>\n",
              "\n",
              "            <p><a href=\"http://56bc9c2c43c1:4040\">Spark UI</a></p>\n",
              "\n",
              "            <dl>\n",
              "              <dt>Version</dt>\n",
              "                <dd><code>v3.5.2</code></dd>\n",
              "              <dt>Master</dt>\n",
              "                <dd><code>local[*]</code></dd>\n",
              "              <dt>AppName</dt>\n",
              "                <dd><code>Colab PySpark Session</code></dd>\n",
              "            </dl>\n",
              "        </div>\n",
              "        \n",
              "            </div>\n",
              "        "
            ]
          },
          "metadata": {},
          "execution_count": 83
        }
      ]
    },
    {
      "cell_type": "markdown",
      "source": [
        "Q.2 How to read and write a data with SparkSession\n",
        "\n",
        "To read or write data with sparksession we are going to have to pass a csv file.\n",
        "\n"
      ],
      "metadata": {
        "id": "bq6LwlusUvq_"
      }
    },
    {
      "cell_type": "code",
      "source": [
        "df = spark.read.csv('/content/drive/MyDrive/Classroom/SYMCA24-25(BABI)/student_performance.csv', header=True, inferSchema=True)\n",
        "df.show()"
      ],
      "metadata": {
        "colab": {
          "base_uri": "https://localhost:8080/",
          "height": 0
        },
        "id": "Osna88qJWobG",
        "outputId": "a7f82c9b-90e8-40c9-a031-9ba57556b4e6"
      },
      "execution_count": 84,
      "outputs": [
        {
          "output_type": "stream",
          "name": "stdout",
          "text": [
            "+---------+--------+------+--------------+-----------------+-------------+-------------------------+---------------+----------+\n",
            "|StudentID|    Name|Gender|AttendanceRate|StudyHoursPerWeek|PreviousGrade|ExtracurricularActivities|ParentalSupport|FinalGrade|\n",
            "+---------+--------+------+--------------+-----------------+-------------+-------------------------+---------------+----------+\n",
            "|        1|    John|  Male|            85|               15|           78|                        1|           High|        80|\n",
            "|        2|   Sarah|Female|            90|               20|           85|                        2|         Medium|        87|\n",
            "|        3|    Alex|  Male|            78|               10|           65|                        0|            Low|        68|\n",
            "|        4| Michael|  Male|            92|               25|           90|                        3|           High|        92|\n",
            "|        5|    Emma|Female|            88|               18|           82|                        2|         Medium|        85|\n",
            "|        6|  Olivia|Female|            95|               30|           88|                        1|           High|        90|\n",
            "|        7|  Daniel|  Male|            70|                8|           60|                        0|            Low|        62|\n",
            "|        8|  Sophia|Female|            85|               17|           77|                        1|         Medium|        78|\n",
            "|        9|   James|  Male|            82|               12|           70|                        2|            Low|        72|\n",
            "|       10|Isabella|Female|            91|               22|           86|                        3|           High|        88|\n",
            "+---------+--------+------+--------------+-----------------+-------------+-------------------------+---------------+----------+\n",
            "\n"
          ]
        }
      ]
    },
    {
      "cell_type": "markdown",
      "source": [
        "\n",
        "Q.3 Create a csv file in excel and read it as a dataframe\n",
        "\n",
        "Created a student_performace.csv file and uploaded it to sample data. Reading it in as a dataframe\n",
        "\n",
        "Q.4 Display the dataframe.\n",
        "\n"
      ],
      "metadata": {
        "id": "ka4nu_VNW0j6"
      }
    },
    {
      "cell_type": "code",
      "source": [
        "df.describe().show()"
      ],
      "metadata": {
        "colab": {
          "base_uri": "https://localhost:8080/",
          "height": 0
        },
        "id": "l_SOYvzFXZP9",
        "outputId": "fd771cf8-58d3-4cee-90d7-306764b4547a"
      },
      "execution_count": 85,
      "outputs": [
        {
          "output_type": "stream",
          "name": "stdout",
          "text": [
            "+-------+------------------+------+------+-----------------+-----------------+------------------+-------------------------+---------------+------------------+\n",
            "|summary|         StudentID|  Name|Gender|   AttendanceRate|StudyHoursPerWeek|     PreviousGrade|ExtracurricularActivities|ParentalSupport|        FinalGrade|\n",
            "+-------+------------------+------+------+-----------------+-----------------+------------------+-------------------------+---------------+------------------+\n",
            "|  count|                10|    10|    10|               10|               10|                10|                       10|             10|                10|\n",
            "|   mean|               5.5|  NULL|  NULL|             85.6|             17.7|              78.1|                      1.5|           NULL|              80.2|\n",
            "| stddev|3.0276503540974917|  NULL|  NULL|7.441624673267109|6.848357467305573|10.170217958988554|       1.0801234497346435|           NULL|10.097304370749432|\n",
            "|    min|                 1|  Alex|Female|               70|                8|                60|                        0|           High|                62|\n",
            "|    max|                10|Sophia|  Male|               95|               30|                90|                        3|         Medium|                92|\n",
            "+-------+------------------+------+------+-----------------+-----------------+------------------+-------------------------+---------------+------------------+\n",
            "\n"
          ]
        }
      ]
    },
    {
      "cell_type": "markdown",
      "source": [
        "Q.5 Display the basic statistics of the dataframe\n",
        "\n",
        "Basic statistic mean the Mean, Median, Standard Deviation, Count, Min and Max\n"
      ],
      "metadata": {
        "id": "8Lm0lsOeXZcG"
      }
    },
    {
      "cell_type": "code",
      "source": [
        "column_dtypes = df.dtypes\n",
        "\n",
        "for column, dtype in column_dtypes:\n",
        "  print(f\"Column : {column} \\n Datatype : {dtype}\")"
      ],
      "metadata": {
        "colab": {
          "base_uri": "https://localhost:8080/",
          "height": 0
        },
        "id": "kLjiG-mSXvCi",
        "outputId": "3b9206a5-fa2d-44f0-e8c7-e4a1e14f9afc"
      },
      "execution_count": 86,
      "outputs": [
        {
          "output_type": "stream",
          "name": "stdout",
          "text": [
            "Column : StudentID \n",
            " Datatype : int\n",
            "Column : Name \n",
            " Datatype : string\n",
            "Column : Gender \n",
            " Datatype : string\n",
            "Column : AttendanceRate \n",
            " Datatype : int\n",
            "Column : StudyHoursPerWeek \n",
            " Datatype : int\n",
            "Column : PreviousGrade \n",
            " Datatype : int\n",
            "Column : ExtracurricularActivities \n",
            " Datatype : int\n",
            "Column : ParentalSupport \n",
            " Datatype : string\n",
            "Column : FinalGrade \n",
            " Datatype : int\n"
          ]
        }
      ]
    },
    {
      "cell_type": "markdown",
      "source": [
        "Q.6 Extract the header and its datatypes\n",
        "\n",
        "This can be done by storing the column name and the respective datatype into a variable and then iterating through it\n"
      ],
      "metadata": {
        "id": "FpNueQQ1XvM_"
      }
    },
    {
      "cell_type": "code",
      "source": [
        "df.printSchema()"
      ],
      "metadata": {
        "colab": {
          "base_uri": "https://localhost:8080/",
          "height": 0
        },
        "id": "vwQNtkjNYYtc",
        "outputId": "8909a811-e788-45a5-b438-ec4ed65e4fb6"
      },
      "execution_count": 87,
      "outputs": [
        {
          "output_type": "stream",
          "name": "stdout",
          "text": [
            "root\n",
            " |-- StudentID: integer (nullable = true)\n",
            " |-- Name: string (nullable = true)\n",
            " |-- Gender: string (nullable = true)\n",
            " |-- AttendanceRate: integer (nullable = true)\n",
            " |-- StudyHoursPerWeek: integer (nullable = true)\n",
            " |-- PreviousGrade: integer (nullable = true)\n",
            " |-- ExtracurricularActivities: integer (nullable = true)\n",
            " |-- ParentalSupport: string (nullable = true)\n",
            " |-- FinalGrade: integer (nullable = true)\n",
            "\n"
          ]
        }
      ]
    },
    {
      "cell_type": "markdown",
      "source": [
        "\n",
        "Q.7 Print the schema of the dataframe\n",
        "\n",
        "This can be done using the `printSchema()` function\n",
        "\n"
      ],
      "metadata": {
        "id": "8YDP1AlgYY5z"
      }
    },
    {
      "cell_type": "code",
      "source": [
        "df.show(5)"
      ],
      "metadata": {
        "colab": {
          "base_uri": "https://localhost:8080/",
          "height": 0
        },
        "id": "wWzMuNtpYiU1",
        "outputId": "5c96d1e5-6d49-48d8-f645-b45066f576db"
      },
      "execution_count": 88,
      "outputs": [
        {
          "output_type": "stream",
          "name": "stdout",
          "text": [
            "+---------+-------+------+--------------+-----------------+-------------+-------------------------+---------------+----------+\n",
            "|StudentID|   Name|Gender|AttendanceRate|StudyHoursPerWeek|PreviousGrade|ExtracurricularActivities|ParentalSupport|FinalGrade|\n",
            "+---------+-------+------+--------------+-----------------+-------------+-------------------------+---------------+----------+\n",
            "|        1|   John|  Male|            85|               15|           78|                        1|           High|        80|\n",
            "|        2|  Sarah|Female|            90|               20|           85|                        2|         Medium|        87|\n",
            "|        3|   Alex|  Male|            78|               10|           65|                        0|            Low|        68|\n",
            "|        4|Michael|  Male|            92|               25|           90|                        3|           High|        92|\n",
            "|        5|   Emma|Female|            88|               18|           82|                        2|         Medium|        85|\n",
            "+---------+-------+------+--------------+-----------------+-------------+-------------------------+---------------+----------+\n",
            "only showing top 5 rows\n",
            "\n"
          ]
        }
      ]
    },
    {
      "cell_type": "markdown",
      "source": [
        "Q.8 Print top 5 rows of the dataframe\n",
        "\n",
        "To Print the top 5 rows we just need to pass the parameter `5` to the `show()` function\n",
        "\n"
      ],
      "metadata": {
        "id": "hB4RweKaYpet"
      }
    },
    {
      "cell_type": "code",
      "source": [
        "df.columns"
      ],
      "metadata": {
        "colab": {
          "base_uri": "https://localhost:8080/",
          "height": 0
        },
        "id": "yRN_26xhY2Fz",
        "outputId": "aa7bb3b3-4263-45b6-a4d9-5a94dc4013dc"
      },
      "execution_count": 89,
      "outputs": [
        {
          "output_type": "execute_result",
          "data": {
            "text/plain": [
              "['StudentID',\n",
              " 'Name',\n",
              " 'Gender',\n",
              " 'AttendanceRate',\n",
              " 'StudyHoursPerWeek',\n",
              " 'PreviousGrade',\n",
              " 'ExtracurricularActivities',\n",
              " 'ParentalSupport',\n",
              " 'FinalGrade']"
            ]
          },
          "metadata": {},
          "execution_count": 89
        }
      ]
    },
    {
      "cell_type": "markdown",
      "source": [
        "Q.9 Display the column header of the dataframe\n",
        "\n",
        "This can be done using the `columns` property of the csv file"
      ],
      "metadata": {
        "id": "Z4CN4JDoY2pZ"
      }
    },
    {
      "cell_type": "code",
      "source": [
        "df.select('gender').show(5)\n",
        "\n",
        "\n",
        "# df.select('gender').distinct().show()\n",
        "# df.select('gender').distinct().count()"
      ],
      "metadata": {
        "colab": {
          "base_uri": "https://localhost:8080/",
          "height": 0
        },
        "id": "tBzCtdJJZLd4",
        "outputId": "a41e4cd2-6093-46c9-a6c6-4150d14acb04"
      },
      "execution_count": 90,
      "outputs": [
        {
          "output_type": "stream",
          "name": "stdout",
          "text": [
            "+------+\n",
            "|gender|\n",
            "+------+\n",
            "|  Male|\n",
            "|Female|\n",
            "|  Male|\n",
            "|  Male|\n",
            "|Female|\n",
            "+------+\n",
            "only showing top 5 rows\n",
            "\n"
          ]
        }
      ]
    },
    {
      "cell_type": "markdown",
      "source": [
        "Q.10 Select one or more columns from the dataframe\n",
        "\n",
        "This can be done using the `select()` function and passing the column name as the parameter. Then using the `show()` function to display the output"
      ],
      "metadata": {
        "id": "0g018Uk9ZLoA"
      }
    },
    {
      "cell_type": "code",
      "source": [
        "df.count()"
      ],
      "metadata": {
        "id": "rYJxnjMlZLzb",
        "colab": {
          "base_uri": "https://localhost:8080/",
          "height": 0
        },
        "outputId": "dd46ad97-2ba8-43be-cea8-f3593ad9b436"
      },
      "execution_count": 91,
      "outputs": [
        {
          "output_type": "execute_result",
          "data": {
            "text/plain": [
              "10"
            ]
          },
          "metadata": {},
          "execution_count": 91
        }
      ]
    },
    {
      "cell_type": "markdown",
      "source": [
        "Q.11 How do you get the number of rows in a DataFrame?\n",
        "\n",
        "This can be done using the `count()` function"
      ],
      "metadata": {
        "id": "S3p2EwvEZL9K"
      }
    },
    {
      "cell_type": "code",
      "source": [
        "df.where(df[\"Gender\"] == 'Male').show()\n",
        "df.where(df[\"Name\"] == 'John').show()"
      ],
      "metadata": {
        "colab": {
          "base_uri": "https://localhost:8080/",
          "height": 0
        },
        "id": "9GKq1rQni0OC",
        "outputId": "e60d3cb9-2d73-4a60-9d37-3de5c37cfaa7"
      },
      "execution_count": 92,
      "outputs": [
        {
          "output_type": "stream",
          "name": "stdout",
          "text": [
            "+---------+-------+------+--------------+-----------------+-------------+-------------------------+---------------+----------+\n",
            "|StudentID|   Name|Gender|AttendanceRate|StudyHoursPerWeek|PreviousGrade|ExtracurricularActivities|ParentalSupport|FinalGrade|\n",
            "+---------+-------+------+--------------+-----------------+-------------+-------------------------+---------------+----------+\n",
            "|        1|   John|  Male|            85|               15|           78|                        1|           High|        80|\n",
            "|        3|   Alex|  Male|            78|               10|           65|                        0|            Low|        68|\n",
            "|        4|Michael|  Male|            92|               25|           90|                        3|           High|        92|\n",
            "|        7| Daniel|  Male|            70|                8|           60|                        0|            Low|        62|\n",
            "|        9|  James|  Male|            82|               12|           70|                        2|            Low|        72|\n",
            "+---------+-------+------+--------------+-----------------+-------------+-------------------------+---------------+----------+\n",
            "\n",
            "+---------+----+------+--------------+-----------------+-------------+-------------------------+---------------+----------+\n",
            "|StudentID|Name|Gender|AttendanceRate|StudyHoursPerWeek|PreviousGrade|ExtracurricularActivities|ParentalSupport|FinalGrade|\n",
            "+---------+----+------+--------------+-----------------+-------------+-------------------------+---------------+----------+\n",
            "|        1|John|  Male|            85|               15|           78|                        1|           High|        80|\n",
            "+---------+----+------+--------------+-----------------+-------------+-------------------------+---------------+----------+\n",
            "\n"
          ]
        }
      ]
    },
    {
      "cell_type": "markdown",
      "source": [
        "Q.12 How do you select a perticular rows from a dataframe?\n",
        "\n",
        "This can be done using two functions :\n",
        "`filter()` or `where()` and then passing the row and the respective value of the row you want to filer it based on\n",
        "\n",
        "```python\n",
        "df.filter(df[\"column_name\"] == value).show()\n",
        "df.where(df[\"column_name\"] == value).show()\n",
        "```"
      ],
      "metadata": {
        "id": "0IEaoc_7i0UW"
      }
    },
    {
      "cell_type": "code",
      "source": [
        "df = df.withColumn(\"new_column\", lit(\"constant_value\"))\n",
        "\n",
        "df.show()\n"
      ],
      "metadata": {
        "colab": {
          "base_uri": "https://localhost:8080/",
          "height": 0
        },
        "id": "1C1R3OJCriFy",
        "outputId": "68fadf52-f70b-4e4f-d33f-9fbb7441bd7a"
      },
      "execution_count": 93,
      "outputs": [
        {
          "output_type": "stream",
          "name": "stdout",
          "text": [
            "+---------+--------+------+--------------+-----------------+-------------+-------------------------+---------------+----------+--------------+\n",
            "|StudentID|    Name|Gender|AttendanceRate|StudyHoursPerWeek|PreviousGrade|ExtracurricularActivities|ParentalSupport|FinalGrade|    new_column|\n",
            "+---------+--------+------+--------------+-----------------+-------------+-------------------------+---------------+----------+--------------+\n",
            "|        1|    John|  Male|            85|               15|           78|                        1|           High|        80|constant_value|\n",
            "|        2|   Sarah|Female|            90|               20|           85|                        2|         Medium|        87|constant_value|\n",
            "|        3|    Alex|  Male|            78|               10|           65|                        0|            Low|        68|constant_value|\n",
            "|        4| Michael|  Male|            92|               25|           90|                        3|           High|        92|constant_value|\n",
            "|        5|    Emma|Female|            88|               18|           82|                        2|         Medium|        85|constant_value|\n",
            "|        6|  Olivia|Female|            95|               30|           88|                        1|           High|        90|constant_value|\n",
            "|        7|  Daniel|  Male|            70|                8|           60|                        0|            Low|        62|constant_value|\n",
            "|        8|  Sophia|Female|            85|               17|           77|                        1|         Medium|        78|constant_value|\n",
            "|        9|   James|  Male|            82|               12|           70|                        2|            Low|        72|constant_value|\n",
            "|       10|Isabella|Female|            91|               22|           86|                        3|           High|        88|constant_value|\n",
            "+---------+--------+------+--------------+-----------------+-------------+-------------------------+---------------+----------+--------------+\n",
            "\n"
          ]
        }
      ]
    },
    {
      "cell_type": "markdown",
      "source": [
        "Q.13 How do you add a new column to a DataFrame with a constant value?\n",
        "\n",
        "This can easily be done by the `withColumn()` function and using the `lit()` function we can pass the same value to every row in the new columb"
      ],
      "metadata": {
        "id": "Ic20y-W5riJj"
      }
    },
    {
      "cell_type": "code",
      "source": [
        "df.withColumnRenamed(\"new_column\", \"Final Credit\").show()"
      ],
      "metadata": {
        "colab": {
          "base_uri": "https://localhost:8080/",
          "height": 0
        },
        "id": "wTNT88e0tDl4",
        "outputId": "4ef2b6ec-ad5e-4d2b-e2b7-c7720f815f70"
      },
      "execution_count": 94,
      "outputs": [
        {
          "output_type": "stream",
          "name": "stdout",
          "text": [
            "+---------+--------+------+--------------+-----------------+-------------+-------------------------+---------------+----------+--------------+\n",
            "|StudentID|    Name|Gender|AttendanceRate|StudyHoursPerWeek|PreviousGrade|ExtracurricularActivities|ParentalSupport|FinalGrade|  Final Credit|\n",
            "+---------+--------+------+--------------+-----------------+-------------+-------------------------+---------------+----------+--------------+\n",
            "|        1|    John|  Male|            85|               15|           78|                        1|           High|        80|constant_value|\n",
            "|        2|   Sarah|Female|            90|               20|           85|                        2|         Medium|        87|constant_value|\n",
            "|        3|    Alex|  Male|            78|               10|           65|                        0|            Low|        68|constant_value|\n",
            "|        4| Michael|  Male|            92|               25|           90|                        3|           High|        92|constant_value|\n",
            "|        5|    Emma|Female|            88|               18|           82|                        2|         Medium|        85|constant_value|\n",
            "|        6|  Olivia|Female|            95|               30|           88|                        1|           High|        90|constant_value|\n",
            "|        7|  Daniel|  Male|            70|                8|           60|                        0|            Low|        62|constant_value|\n",
            "|        8|  Sophia|Female|            85|               17|           77|                        1|         Medium|        78|constant_value|\n",
            "|        9|   James|  Male|            82|               12|           70|                        2|            Low|        72|constant_value|\n",
            "|       10|Isabella|Female|            91|               22|           86|                        3|           High|        88|constant_value|\n",
            "+---------+--------+------+--------------+-----------------+-------------+-------------------------+---------------+----------+--------------+\n",
            "\n"
          ]
        }
      ]
    },
    {
      "cell_type": "markdown",
      "source": [
        "Q.14 How can you rename a column in a DataFrame?\n",
        "\n",
        "We can use the `withColumnRenamed()` function and pass the paramters to it, i.e. the old column name and the new column name"
      ],
      "metadata": {
        "id": "czsBL7PYr74d"
      }
    },
    {
      "cell_type": "code",
      "source": [
        "df = df.drop(\"new_column\")\n",
        "\n",
        "#df.drop(\"new_column\").show()"
      ],
      "metadata": {
        "id": "Hl6HbrjGtD9u"
      },
      "execution_count": 95,
      "outputs": []
    },
    {
      "cell_type": "markdown",
      "source": [
        "Q.15 How do you drop a column from a DataFrame?\n",
        "\n",
        "This can be done using the `drop()` function\n",
        "\n",
        "🔴  Important note to remember is that unless you write it as\n",
        "```python\n",
        "df = df.drop(\"new_column\")\n",
        "```\n",
        "It won't be re written no the original csv file"
      ],
      "metadata": {
        "id": "pwGm8gHjr79w"
      }
    },
    {
      "cell_type": "code",
      "source": [
        "\n",
        "# Skewness and kurtosis have to be imported from the pyspark sql library\n",
        "\n",
        "df.select(skewness(\"AttendanceRate\")).show()\n",
        "\n",
        "df.select(kurtosis(\"AttendanceRate\")).show()"
      ],
      "metadata": {
        "colab": {
          "base_uri": "https://localhost:8080/",
          "height": 0
        },
        "id": "2Smndt7ItERY",
        "outputId": "de6c7d4e-0cbf-40ef-f7f7-2ec1545ed825"
      },
      "execution_count": 96,
      "outputs": [
        {
          "output_type": "stream",
          "name": "stdout",
          "text": [
            "+------------------------+\n",
            "|skewness(AttendanceRate)|\n",
            "+------------------------+\n",
            "|     -0.8336552137280455|\n",
            "+------------------------+\n",
            "\n",
            "+------------------------+\n",
            "|kurtosis(AttendanceRate)|\n",
            "+------------------------+\n",
            "|    -0.04221921062327416|\n",
            "+------------------------+\n",
            "\n"
          ]
        }
      ]
    },
    {
      "cell_type": "markdown",
      "source": [
        "Q.16 How do you calculate the Skewness and Kurtosis of a particular column in a dataframe?\n",
        "\n",
        "To find these two properties of a particular column we can use the `skewness()` and `kurtosis()` functions along with the `select()` function to select those of a particular column"
      ],
      "metadata": {
        "id": "hgXQQKIlr8C2"
      }
    },
    {
      "cell_type": "code",
      "source": [
        "df = df.withColumnRenamed(\"StudyHoursPerWeek\", \"Learning Time\") \\\n",
        "       .withColumnRenamed(\"FinalGrade\", \"Final Score\")\n",
        "\n",
        "df.show()\n"
      ],
      "metadata": {
        "colab": {
          "base_uri": "https://localhost:8080/",
          "height": 0
        },
        "id": "O6XkhZtZvK93",
        "outputId": "d1e2f096-dc0c-4411-ddbe-cee8bb0cc80a"
      },
      "execution_count": 97,
      "outputs": [
        {
          "output_type": "stream",
          "name": "stdout",
          "text": [
            "+---------+--------+------+--------------+-------------+-------------+-------------------------+---------------+-----------+\n",
            "|StudentID|    Name|Gender|AttendanceRate|Learning Time|PreviousGrade|ExtracurricularActivities|ParentalSupport|Final Score|\n",
            "+---------+--------+------+--------------+-------------+-------------+-------------------------+---------------+-----------+\n",
            "|        1|    John|  Male|            85|           15|           78|                        1|           High|         80|\n",
            "|        2|   Sarah|Female|            90|           20|           85|                        2|         Medium|         87|\n",
            "|        3|    Alex|  Male|            78|           10|           65|                        0|            Low|         68|\n",
            "|        4| Michael|  Male|            92|           25|           90|                        3|           High|         92|\n",
            "|        5|    Emma|Female|            88|           18|           82|                        2|         Medium|         85|\n",
            "|        6|  Olivia|Female|            95|           30|           88|                        1|           High|         90|\n",
            "|        7|  Daniel|  Male|            70|            8|           60|                        0|            Low|         62|\n",
            "|        8|  Sophia|Female|            85|           17|           77|                        1|         Medium|         78|\n",
            "|        9|   James|  Male|            82|           12|           70|                        2|            Low|         72|\n",
            "|       10|Isabella|Female|            91|           22|           86|                        3|           High|         88|\n",
            "+---------+--------+------+--------------+-------------+-------------+-------------------------+---------------+-----------+\n",
            "\n"
          ]
        }
      ]
    },
    {
      "cell_type": "markdown",
      "source": [
        "Q.17 How do you rename multiple columns?\n",
        "\n",
        "This can be done using the `withColumnRenamed()` function, multiple times"
      ],
      "metadata": {
        "id": "moPkZlymr8H6"
      }
    },
    {
      "cell_type": "code",
      "source": [
        "schema = df.schema\n",
        "\n",
        "new_data = [(11,\"Aaron\",\"Male\",99,40,100,7,\"High\",100)\\\n",
        "            ,(12,\"Tejas\",\"Male\",78,22,85,7,\"Medium\",85)]\n",
        "\n",
        "new_df = spark.createDataFrame(new_data, schema=schema)\n",
        "\n",
        "df = df.union(new_df)\n",
        "df.show()"
      ],
      "metadata": {
        "colab": {
          "base_uri": "https://localhost:8080/",
          "height": 0
        },
        "id": "K6njOduZv3fn",
        "outputId": "9cfc2c08-1d6e-4bd2-d3d9-f2d324a63cde"
      },
      "execution_count": 98,
      "outputs": [
        {
          "output_type": "stream",
          "name": "stdout",
          "text": [
            "+---------+--------+------+--------------+-------------+-------------+-------------------------+---------------+-----------+\n",
            "|StudentID|    Name|Gender|AttendanceRate|Learning Time|PreviousGrade|ExtracurricularActivities|ParentalSupport|Final Score|\n",
            "+---------+--------+------+--------------+-------------+-------------+-------------------------+---------------+-----------+\n",
            "|        1|    John|  Male|            85|           15|           78|                        1|           High|         80|\n",
            "|        2|   Sarah|Female|            90|           20|           85|                        2|         Medium|         87|\n",
            "|        3|    Alex|  Male|            78|           10|           65|                        0|            Low|         68|\n",
            "|        4| Michael|  Male|            92|           25|           90|                        3|           High|         92|\n",
            "|        5|    Emma|Female|            88|           18|           82|                        2|         Medium|         85|\n",
            "|        6|  Olivia|Female|            95|           30|           88|                        1|           High|         90|\n",
            "|        7|  Daniel|  Male|            70|            8|           60|                        0|            Low|         62|\n",
            "|        8|  Sophia|Female|            85|           17|           77|                        1|         Medium|         78|\n",
            "|        9|   James|  Male|            82|           12|           70|                        2|            Low|         72|\n",
            "|       10|Isabella|Female|            91|           22|           86|                        3|           High|         88|\n",
            "|       11|   Aaron|  Male|            99|           40|          100|                        7|           High|        100|\n",
            "|       12|   Tejas|  Male|            78|           22|           85|                        7|         Medium|         85|\n",
            "+---------+--------+------+--------------+-------------+-------------+-------------------------+---------------+-----------+\n",
            "\n"
          ]
        }
      ]
    },
    {
      "cell_type": "markdown",
      "source": [
        "Q.18 Add a few rows with values\n",
        "\n",
        "This is a slightly lengthy process since I will have to create a new dataframe with the new rows and then use the union function to combine the old one and the new one.\n",
        "Using the existing schema we can create the new datafram easily and then go ahead and use union to integrate the new dataframe into the old one"
      ],
      "metadata": {
        "id": "_fEMDNxVr8Mq"
      }
    },
    {
      "cell_type": "code",
      "source": [
        "new_data_null = [(None, None, None, None, None, None, None, None, None),\n",
        "                 (None, None, None, None, None, None, None, None, None)]\n",
        "\n",
        "new_df_null = spark.createDataFrame(new_data_null, schema=schema)\n",
        "\n",
        "df = df.union(new_df_null)\n",
        "df.show()"
      ],
      "metadata": {
        "colab": {
          "base_uri": "https://localhost:8080/",
          "height": 0
        },
        "id": "vYiBDp7yyBIf",
        "outputId": "504febee-0c3a-4f69-cd77-31ac687b9ca9"
      },
      "execution_count": 99,
      "outputs": [
        {
          "output_type": "stream",
          "name": "stdout",
          "text": [
            "+---------+--------+------+--------------+-------------+-------------+-------------------------+---------------+-----------+\n",
            "|StudentID|    Name|Gender|AttendanceRate|Learning Time|PreviousGrade|ExtracurricularActivities|ParentalSupport|Final Score|\n",
            "+---------+--------+------+--------------+-------------+-------------+-------------------------+---------------+-----------+\n",
            "|        1|    John|  Male|            85|           15|           78|                        1|           High|         80|\n",
            "|        2|   Sarah|Female|            90|           20|           85|                        2|         Medium|         87|\n",
            "|        3|    Alex|  Male|            78|           10|           65|                        0|            Low|         68|\n",
            "|        4| Michael|  Male|            92|           25|           90|                        3|           High|         92|\n",
            "|        5|    Emma|Female|            88|           18|           82|                        2|         Medium|         85|\n",
            "|        6|  Olivia|Female|            95|           30|           88|                        1|           High|         90|\n",
            "|        7|  Daniel|  Male|            70|            8|           60|                        0|            Low|         62|\n",
            "|        8|  Sophia|Female|            85|           17|           77|                        1|         Medium|         78|\n",
            "|        9|   James|  Male|            82|           12|           70|                        2|            Low|         72|\n",
            "|       10|Isabella|Female|            91|           22|           86|                        3|           High|         88|\n",
            "|       11|   Aaron|  Male|            99|           40|          100|                        7|           High|        100|\n",
            "|       12|   Tejas|  Male|            78|           22|           85|                        7|         Medium|         85|\n",
            "|     NULL|    NULL|  NULL|          NULL|         NULL|         NULL|                     NULL|           NULL|       NULL|\n",
            "|     NULL|    NULL|  NULL|          NULL|         NULL|         NULL|                     NULL|           NULL|       NULL|\n",
            "+---------+--------+------+--------------+-------------+-------------+-------------------------+---------------+-----------+\n",
            "\n"
          ]
        }
      ]
    },
    {
      "cell_type": "markdown",
      "source": [
        "Q.19 Add a few rows with some null values\n",
        "Q.20 Add a new row with completely null values\n",
        "\n",
        "Similar process to the last one but you just need to define each one of the input values as `None`"
      ],
      "metadata": {
        "id": "9w2k1Iizr8RP"
      }
    },
    {
      "cell_type": "code",
      "source": [
        "import matplotlib.pyplot as plt\n",
        "import seaborn as sns\n",
        "\n",
        "# Assuming df is your PySpark DataFrame\n",
        "# Convert PySpark DataFrame to Pandas DataFrame\n",
        "pdf = df.toPandas()\n",
        "\n",
        "# Plot histograms\n",
        "plt.figure(figsize=(12, 6))\n",
        "\n",
        "# Histogram for StudyHoursPerWeek\n",
        "plt.subplot(1, 2, 1)\n",
        "sns.histplot(pdf['Learning Time'], bins=20, kde=False, color='blue')\n",
        "plt.title('Histogram of Learning Time')\n",
        "plt.xlabel('Study Hours Per Week')\n",
        "plt.ylabel('Frequency')\n",
        "\n",
        "# Histogram for FinalGrade\n",
        "plt.subplot(1, 2, 2)\n",
        "sns.histplot(pdf['Final Score'], bins=20, kde=False, color='green')\n",
        "plt.title('Histogram of FinalGrade')\n",
        "plt.xlabel('Final Grade')\n",
        "plt.ylabel('Frequency')\n",
        "\n",
        "# Show the plot\n",
        "plt.tight_layout()\n",
        "plt.show()\n"
      ],
      "metadata": {
        "colab": {
          "base_uri": "https://localhost:8080/",
          "height": 569
        },
        "id": "pxxfpiwfypoB",
        "outputId": "8880b2d3-6261-470b-8576-72c9c63dc552"
      },
      "execution_count": 100,
      "outputs": [
        {
          "output_type": "display_data",
          "data": {
            "text/plain": [
              "<Figure size 1200x600 with 2 Axes>"
            ],
            "image/png": "[encoded data removed]"
          },
          "metadata": {}
        }
      ]
    },
    {
      "cell_type": "markdown",
      "source": [
        "Q.21 Plot a histogram using any two columns\n",
        "\n",
        "Steps:\n",
        "- Convert PySpark DataFrame to Pandas DataFrame:\n",
        "Use the .toPandas() method to convert the PySpark DataFrame to a Pandas DataFrame.\n",
        "\n",
        "- Use Matplotlib or Seaborn to Plot the Histogram:\n",
        "Plot the histogram using Matplotlib or Seaborn.\n",
        "\n"
      ],
      "metadata": {
        "id": "XXiP8RcksJOi"
      }
    },
    {
      "cell_type": "code",
      "source": [
        "%matplotlib inline\n",
        "# Plot box plot for the column 'FinalGrade'\n",
        "plt.figure(figsize=(8, 6))\n",
        "sns.boxplot(x=pdf['Final Score'], color='lightblue')\n",
        "plt.title('Box Plot of Final Score')\n",
        "plt.xlabel('Final Score')\n",
        "\n",
        "\n",
        "# Show the plot\n",
        "plt.show()"
      ],
      "metadata": {
        "colab": {
          "base_uri": "https://localhost:8080/",
          "height": 564
        },
        "id": "kcMJjDOO8U8V",
        "outputId": "f57311fe-2bb1-41be-a516-133b8b30583b"
      },
      "execution_count": 101,
      "outputs": [
        {
          "output_type": "display_data",
          "data": {
            "text/plain": [
              "<Figure size 800x600 with 1 Axes>"
            ],
            "image/png": "[encoded data removed]"
          },
          "metadata": {}
        }
      ]
    },
    {
      "cell_type": "markdown",
      "source": [
        "Q.22 Plot a box plot for a particular column\n",
        "\n",
        "The same way we used matplotlib and pandas for the histogram we have to use the same to get the boxplot\n",
        "1. Setup the figure size using the `figure()` function\n",
        "2. Then set the title using `title()` and then X label using `xlabel()`\n"
      ],
      "metadata": {
        "id": "FgnX8hpusJSu"
      }
    },
    {
      "cell_type": "code",
      "source": [
        "%matplotlib inline\n",
        "# Plot violin plot for the column 'FinalGrade'\n",
        "plt.figure(figsize=(8, 6))\n",
        "sns.violinplot(x=pdf['Final Score'], color='lightgreen')\n",
        "plt.title('Violin Plot of Final Score')\n",
        "plt.xlabel('Final score')\n",
        "\n",
        "# Show the plot\n",
        "plt.show()"
      ],
      "metadata": {
        "colab": {
          "base_uri": "https://localhost:8080/",
          "height": 564
        },
        "id": "2OMCKp9G-Ws9",
        "outputId": "17fdb7e9-874b-4968-daf6-ba738fd594d9"
      },
      "execution_count": 102,
      "outputs": [
        {
          "output_type": "display_data",
          "data": {
            "text/plain": [
              "<Figure size 800x600 with 1 Axes>"
            ],
            "image/png": "[encoded data removed]"
          },
          "metadata": {}
        }
      ]
    },
    {
      "cell_type": "markdown",
      "source": [
        "Q.23 Plot a violin plot for a particular columns\n",
        "\n",
        "Again using seaborn and matplotlib along with the `violinpliot()` function we can create a violin plot and define the xlabel along with the name of the Y-axis\n"
      ],
      "metadata": {
        "id": "xetnP01JsJWq"
      }
    },
    {
      "cell_type": "code",
      "source": [
        "from pyspark.sql.types import StructType, StructField, IntegerType, StringType\n",
        "\n",
        "# Define data\n",
        "data1 = [\n",
        "    (1, \"Aaron\", 21),\n",
        "    (2, \"Nikhil\", 23),\n",
        "    (3, \"Tejas\", 22)\n",
        "]\n",
        "\n",
        "# Define schema\n",
        "schema = StructType([\n",
        "    StructField(\"ID\", IntegerType(), True),\n",
        "    StructField(\"Name\", StringType(), True),\n",
        "    StructField(\"Age\", IntegerType(), True)\n",
        "])\n",
        "\n",
        "# Create DataFrame\n",
        "sdf = spark.createDataFrame(data1, schema=schema)\n",
        "\n",
        "# Show the DataFrame\n",
        "sdf.show()"
      ],
      "metadata": {
        "colab": {
          "base_uri": "https://localhost:8080/",
          "height": 0
        },
        "id": "8bWDnuvu_2ce",
        "outputId": "521f8ab1-5330-47ac-eb6e-174597de8cc8"
      },
      "execution_count": 103,
      "outputs": [
        {
          "output_type": "stream",
          "name": "stdout",
          "text": [
            "+---+------+---+\n",
            "| ID|  Name|Age|\n",
            "+---+------+---+\n",
            "|  1| Aaron| 21|\n",
            "|  2|Nikhil| 23|\n",
            "|  3| Tejas| 22|\n",
            "+---+------+---+\n",
            "\n"
          ]
        }
      ]
    },
    {
      "cell_type": "markdown",
      "source": [
        "Q.24 Create a dataframe with 3 columns\n",
        "\n",
        "For this we need to first define the schema we are going to use for the following dataframe and the kinds of inputs it will accept, namely the dataypes"
      ],
      "metadata": {
        "id": "dhIzvD2PsJaK"
      }
    },
    {
      "cell_type": "code",
      "source": [
        "data2 = [\n",
        "    (4, \"Rushabh\", 22),\n",
        "    (5, \"Somesh\", 21),\n",
        "    (6, \"Tatvam\", 31),\n",
        "    (None,None,None)\n",
        "]\n",
        "\n",
        "tdf = spark.createDataFrame(data2, schema=schema)\n",
        "sdf = sdf.union(tdf)\n",
        "sdf.show()\n"
      ],
      "metadata": {
        "colab": {
          "base_uri": "https://localhost:8080/",
          "height": 0
        },
        "id": "XaGBAVNjBa2L",
        "outputId": "a43333d2-156d-49b8-9174-65ebd819bd49"
      },
      "execution_count": 104,
      "outputs": [
        {
          "output_type": "stream",
          "name": "stdout",
          "text": [
            "+----+-------+----+\n",
            "|  ID|   Name| Age|\n",
            "+----+-------+----+\n",
            "|   1|  Aaron|  21|\n",
            "|   2| Nikhil|  23|\n",
            "|   3|  Tejas|  22|\n",
            "|   4|Rushabh|  22|\n",
            "|   5| Somesh|  21|\n",
            "|   6| Tatvam|  31|\n",
            "|NULL|   NULL|NULL|\n",
            "+----+-------+----+\n",
            "\n"
          ]
        }
      ]
    },
    {
      "cell_type": "markdown",
      "source": [
        "Q.25 Combine two dataframes\n",
        "\n",
        "This can be done using the `union()` function. While doing this we need to make sure that we are combining two dataframes that are following the same schema\n"
      ],
      "metadata": {
        "id": "BrN5kPQzBrPh"
      }
    },
    {
      "cell_type": "code",
      "source": [
        "\n",
        "\n",
        "sdf_filtered = sdf.filter(col(\"Name\").isNull())\n",
        "sdf_filtered.show()"
      ],
      "metadata": {
        "colab": {
          "base_uri": "https://localhost:8080/",
          "height": 0
        },
        "id": "-Hrtpsi2B-LD",
        "outputId": "eaf674db-b71b-4f9c-862c-31083a768d46"
      },
      "execution_count": 105,
      "outputs": [
        {
          "output_type": "stream",
          "name": "stdout",
          "text": [
            "+----+----+----+\n",
            "|  ID|Name| Age|\n",
            "+----+----+----+\n",
            "|NULL|NULL|NULL|\n",
            "+----+----+----+\n",
            "\n"
          ]
        }
      ]
    },
    {
      "cell_type": "markdown",
      "source": [
        "\n",
        "Q.26 How do you filter rows where a column has null values?\n",
        "\n",
        "This can be done by using the `isNull()` function along with the `col()` function in the sql library of pyspark to access the column with a specific `name` and check if there are null values in them"
      ],
      "metadata": {
        "id": "MbGo0bF8B-RD"
      }
    },
    {
      "cell_type": "code",
      "source": [
        "sdf = sdf.dropna()\n",
        "\n",
        "sdf.show()"
      ],
      "metadata": {
        "colab": {
          "base_uri": "https://localhost:8080/",
          "height": 0
        },
        "id": "xvdXjGFBy-ml",
        "outputId": "90467c15-b627-47f2-9b59-de0668acc8b5"
      },
      "execution_count": 106,
      "outputs": [
        {
          "output_type": "stream",
          "name": "stdout",
          "text": [
            "+---+-------+---+\n",
            "| ID|   Name|Age|\n",
            "+---+-------+---+\n",
            "|  1|  Aaron| 21|\n",
            "|  2| Nikhil| 23|\n",
            "|  3|  Tejas| 22|\n",
            "|  4|Rushabh| 22|\n",
            "|  5| Somesh| 21|\n",
            "|  6| Tatvam| 31|\n",
            "+---+-------+---+\n",
            "\n"
          ]
        }
      ]
    },
    {
      "cell_type": "markdown",
      "source": [
        "Q.27 Drop Null valued row\n",
        "\n",
        "This can be done using the `dropna()` function which will drop any row that has a null value"
      ],
      "metadata": {
        "id": "b-xgY10iCAOV"
      }
    },
    {
      "cell_type": "code",
      "source": [
        "sdf_filtered = sdf.dropna(thresh=2)\n",
        "\n",
        "sdf_filtered.show()\n"
      ],
      "metadata": {
        "colab": {
          "base_uri": "https://localhost:8080/",
          "height": 0
        },
        "id": "x88qw4ow2__u",
        "outputId": "5fc56448-3929-4766-9f8f-849a5bea6a39"
      },
      "execution_count": 107,
      "outputs": [
        {
          "output_type": "stream",
          "name": "stdout",
          "text": [
            "+---+-------+---+\n",
            "| ID|   Name|Age|\n",
            "+---+-------+---+\n",
            "|  1|  Aaron| 21|\n",
            "|  2| Nikhil| 23|\n",
            "|  3|  Tejas| 22|\n",
            "|  4|Rushabh| 22|\n",
            "|  5| Somesh| 21|\n",
            "|  6| Tatvam| 31|\n",
            "+---+-------+---+\n",
            "\n"
          ]
        }
      ]
    },
    {
      "cell_type": "markdown",
      "source": [
        "Q.28 Drop rows with atleast 2 NULL values (use threshold and any feature)\n",
        "\n",
        "To do this we need to pass the additional condition of threshold being equal to 2\n",
        "```python\n",
        "\n",
        "sdf_filtered = sdf.dropna(thresh=2)\n",
        "```"
      ],
      "metadata": {
        "id": "iucj8_0vCAUv"
      }
    },
    {
      "cell_type": "code",
      "source": [
        "null_data = [(7, None, 25),\n",
        "    (8, \"Charlie\", None),\n",
        "    (9, None, None)]\n",
        "\n",
        "null_df = spark.createDataFrame(null_data, schema=schema)\n",
        "\n",
        "sdf = sdf.union(null_df)\n",
        "\n",
        "sdf.fillna(0).show()"
      ],
      "metadata": {
        "colab": {
          "base_uri": "https://localhost:8080/",
          "height": 0
        },
        "id": "Zb37CWFS3DNL",
        "outputId": "a3c3d060-d5c9-464f-ad53-11cd265fcc73"
      },
      "execution_count": 108,
      "outputs": [
        {
          "output_type": "stream",
          "name": "stdout",
          "text": [
            "+---+-------+---+\n",
            "| ID|   Name|Age|\n",
            "+---+-------+---+\n",
            "|  1|  Aaron| 21|\n",
            "|  2| Nikhil| 23|\n",
            "|  3|  Tejas| 22|\n",
            "|  4|Rushabh| 22|\n",
            "|  5| Somesh| 21|\n",
            "|  6| Tatvam| 31|\n",
            "|  7|   NULL| 25|\n",
            "|  8|Charlie|  0|\n",
            "|  9|   NULL|  0|\n",
            "+---+-------+---+\n",
            "\n"
          ]
        }
      ]
    },
    {
      "cell_type": "markdown",
      "source": [
        "Q.29 How do you fill null values with a specific value?\n",
        "\n",
        "\n",
        "To replace the null values with another value we can simple replace the null values with 0"
      ],
      "metadata": {
        "id": "jswB2_h-CAYW"
      }
    },
    {
      "cell_type": "code",
      "source": [
        "df_sorted = df.orderBy(col(\"gender\").asc())\n",
        "\n",
        "df_sorted.show()"
      ],
      "metadata": {
        "colab": {
          "base_uri": "https://localhost:8080/",
          "height": 0
        },
        "id": "Cb_09TzC4_4E",
        "outputId": "8cd9b5eb-b5de-4e27-b796-f8250076bffd"
      },
      "execution_count": 109,
      "outputs": [
        {
          "output_type": "stream",
          "name": "stdout",
          "text": [
            "+---------+--------+------+--------------+-------------+-------------+-------------------------+---------------+-----------+\n",
            "|StudentID|    Name|Gender|AttendanceRate|Learning Time|PreviousGrade|ExtracurricularActivities|ParentalSupport|Final Score|\n",
            "+---------+--------+------+--------------+-------------+-------------+-------------------------+---------------+-----------+\n",
            "|     NULL|    NULL|  NULL|          NULL|         NULL|         NULL|                     NULL|           NULL|       NULL|\n",
            "|     NULL|    NULL|  NULL|          NULL|         NULL|         NULL|                     NULL|           NULL|       NULL|\n",
            "|        2|   Sarah|Female|            90|           20|           85|                        2|         Medium|         87|\n",
            "|        5|    Emma|Female|            88|           18|           82|                        2|         Medium|         85|\n",
            "|        6|  Olivia|Female|            95|           30|           88|                        1|           High|         90|\n",
            "|        8|  Sophia|Female|            85|           17|           77|                        1|         Medium|         78|\n",
            "|       10|Isabella|Female|            91|           22|           86|                        3|           High|         88|\n",
            "|       12|   Tejas|  Male|            78|           22|           85|                        7|         Medium|         85|\n",
            "|       11|   Aaron|  Male|            99|           40|          100|                        7|           High|        100|\n",
            "|        1|    John|  Male|            85|           15|           78|                        1|           High|         80|\n",
            "|        3|    Alex|  Male|            78|           10|           65|                        0|            Low|         68|\n",
            "|        4| Michael|  Male|            92|           25|           90|                        3|           High|         92|\n",
            "|        7|  Daniel|  Male|            70|            8|           60|                        0|            Low|         62|\n",
            "|        9|   James|  Male|            82|           12|           70|                        2|            Low|         72|\n",
            "+---------+--------+------+--------------+-------------+-------------+-------------------------+---------------+-----------+\n",
            "\n"
          ]
        }
      ]
    },
    {
      "cell_type": "markdown",
      "source": [
        "Q.30 How do you sort a DataFrame by a column?\n",
        "\n",
        "To sort a dataframe by a column we can use the `orderBy()` function\n",
        "\n",
        "Additionally if we use the `col()` function to access the specific column and use either `asc()` or `desc()` function we can define if we want the column to be sorted in ascending or in descending order"
      ],
      "metadata": {
        "id": "umHg1uHWCAbe"
      }
    },
    {
      "cell_type": "code",
      "source": [
        "# Sort by 'Age' in ascending order and 'Name' in descending order\n",
        "df_sorted_multi = df.orderBy(col(\"AttendanceRate\").desc(), col(\"Name\").asc())\n",
        "\n",
        "# Show the resulting DataFrame\n",
        "df_sorted_multi.show()"
      ],
      "metadata": {
        "colab": {
          "base_uri": "https://localhost:8080/",
          "height": 0
        },
        "id": "74u_9fte5XDd",
        "outputId": "0de50d6d-8370-4920-b9d7-0b7ac67f4217"
      },
      "execution_count": 110,
      "outputs": [
        {
          "output_type": "stream",
          "name": "stdout",
          "text": [
            "+---------+--------+------+--------------+-------------+-------------+-------------------------+---------------+-----------+\n",
            "|StudentID|    Name|Gender|AttendanceRate|Learning Time|PreviousGrade|ExtracurricularActivities|ParentalSupport|Final Score|\n",
            "+---------+--------+------+--------------+-------------+-------------+-------------------------+---------------+-----------+\n",
            "|       11|   Aaron|  Male|            99|           40|          100|                        7|           High|        100|\n",
            "|        6|  Olivia|Female|            95|           30|           88|                        1|           High|         90|\n",
            "|        4| Michael|  Male|            92|           25|           90|                        3|           High|         92|\n",
            "|       10|Isabella|Female|            91|           22|           86|                        3|           High|         88|\n",
            "|        2|   Sarah|Female|            90|           20|           85|                        2|         Medium|         87|\n",
            "|        5|    Emma|Female|            88|           18|           82|                        2|         Medium|         85|\n",
            "|        1|    John|  Male|            85|           15|           78|                        1|           High|         80|\n",
            "|        8|  Sophia|Female|            85|           17|           77|                        1|         Medium|         78|\n",
            "|        9|   James|  Male|            82|           12|           70|                        2|            Low|         72|\n",
            "|        3|    Alex|  Male|            78|           10|           65|                        0|            Low|         68|\n",
            "|       12|   Tejas|  Male|            78|           22|           85|                        7|         Medium|         85|\n",
            "|        7|  Daniel|  Male|            70|            8|           60|                        0|            Low|         62|\n",
            "|     NULL|    NULL|  NULL|          NULL|         NULL|         NULL|                     NULL|           NULL|       NULL|\n",
            "|     NULL|    NULL|  NULL|          NULL|         NULL|         NULL|                     NULL|           NULL|       NULL|\n",
            "+---------+--------+------+--------------+-------------+-------------+-------------------------+---------------+-----------+\n",
            "\n"
          ]
        }
      ]
    },
    {
      "cell_type": "markdown",
      "source": [
        "Q.31 How do you sort a DataFrame by multiple columns?\n",
        "\n",
        "Passing two arguements where both are columns, to the `orderBy()` function is possible and it will go ahead and sort the function based on whether or not you want it in ascending or in descending"
      ],
      "metadata": {
        "id": "5Ejl3pKECAeN"
      }
    },
    {
      "cell_type": "code",
      "source": [
        "base_schema = df.schema\n",
        "\n",
        "dupl_data = [(1,\"John\",\"Male\",85,15,78,1,\"High\",80)]\n",
        "\n",
        "dupl_dp = spark.createDataFrame(dupl_data, schema=base_schema)\n",
        "\n",
        "df = df.union(dupl_dp)\n",
        "\n",
        "df.show()"
      ],
      "metadata": {
        "colab": {
          "base_uri": "https://localhost:8080/",
          "height": 0
        },
        "id": "Zj9KJJU16IfQ",
        "outputId": "67e9ccfe-6a01-41d6-d758-8ed6319e41dc"
      },
      "execution_count": 111,
      "outputs": [
        {
          "output_type": "stream",
          "name": "stdout",
          "text": [
            "+---------+--------+------+--------------+-------------+-------------+-------------------------+---------------+-----------+\n",
            "|StudentID|    Name|Gender|AttendanceRate|Learning Time|PreviousGrade|ExtracurricularActivities|ParentalSupport|Final Score|\n",
            "+---------+--------+------+--------------+-------------+-------------+-------------------------+---------------+-----------+\n",
            "|        1|    John|  Male|            85|           15|           78|                        1|           High|         80|\n",
            "|        2|   Sarah|Female|            90|           20|           85|                        2|         Medium|         87|\n",
            "|        3|    Alex|  Male|            78|           10|           65|                        0|            Low|         68|\n",
            "|        4| Michael|  Male|            92|           25|           90|                        3|           High|         92|\n",
            "|        5|    Emma|Female|            88|           18|           82|                        2|         Medium|         85|\n",
            "|        6|  Olivia|Female|            95|           30|           88|                        1|           High|         90|\n",
            "|        7|  Daniel|  Male|            70|            8|           60|                        0|            Low|         62|\n",
            "|        8|  Sophia|Female|            85|           17|           77|                        1|         Medium|         78|\n",
            "|        9|   James|  Male|            82|           12|           70|                        2|            Low|         72|\n",
            "|       10|Isabella|Female|            91|           22|           86|                        3|           High|         88|\n",
            "|       11|   Aaron|  Male|            99|           40|          100|                        7|           High|        100|\n",
            "|       12|   Tejas|  Male|            78|           22|           85|                        7|         Medium|         85|\n",
            "|     NULL|    NULL|  NULL|          NULL|         NULL|         NULL|                     NULL|           NULL|       NULL|\n",
            "|     NULL|    NULL|  NULL|          NULL|         NULL|         NULL|                     NULL|           NULL|       NULL|\n",
            "|        1|    John|  Male|            85|           15|           78|                        1|           High|         80|\n",
            "+---------+--------+------+--------------+-------------+-------------+-------------------------+---------------+-----------+\n",
            "\n"
          ]
        }
      ]
    },
    {
      "cell_type": "code",
      "source": [
        "df_no_duplicates = df.dropDuplicates()\n",
        "\n",
        "df_no_duplicates.show()"
      ],
      "metadata": {
        "colab": {
          "base_uri": "https://localhost:8080/",
          "height": 0
        },
        "id": "z61Umi4E6l94",
        "outputId": "df520209-3f1e-4152-bb61-685ce4ee89a7"
      },
      "execution_count": 112,
      "outputs": [
        {
          "output_type": "stream",
          "name": "stdout",
          "text": [
            "+---------+--------+------+--------------+-------------+-------------+-------------------------+---------------+-----------+\n",
            "|StudentID|    Name|Gender|AttendanceRate|Learning Time|PreviousGrade|ExtracurricularActivities|ParentalSupport|Final Score|\n",
            "+---------+--------+------+--------------+-------------+-------------+-------------------------+---------------+-----------+\n",
            "|        3|    Alex|  Male|            78|           10|           65|                        0|            Low|         68|\n",
            "|        4| Michael|  Male|            92|           25|           90|                        3|           High|         92|\n",
            "|        1|    John|  Male|            85|           15|           78|                        1|           High|         80|\n",
            "|        8|  Sophia|Female|            85|           17|           77|                        1|         Medium|         78|\n",
            "|       10|Isabella|Female|            91|           22|           86|                        3|           High|         88|\n",
            "|        9|   James|  Male|            82|           12|           70|                        2|            Low|         72|\n",
            "|        5|    Emma|Female|            88|           18|           82|                        2|         Medium|         85|\n",
            "|        7|  Daniel|  Male|            70|            8|           60|                        0|            Low|         62|\n",
            "|        2|   Sarah|Female|            90|           20|           85|                        2|         Medium|         87|\n",
            "|        6|  Olivia|Female|            95|           30|           88|                        1|           High|         90|\n",
            "|       11|   Aaron|  Male|            99|           40|          100|                        7|           High|        100|\n",
            "|       12|   Tejas|  Male|            78|           22|           85|                        7|         Medium|         85|\n",
            "|     NULL|    NULL|  NULL|          NULL|         NULL|         NULL|                     NULL|           NULL|       NULL|\n",
            "+---------+--------+------+--------------+-------------+-------------+-------------------------+---------------+-----------+\n",
            "\n"
          ]
        }
      ]
    },
    {
      "cell_type": "markdown",
      "source": [
        "Q.32 How do you drop duplicate rows from a DataFrame?\n",
        "\n",
        "We can use the `dropDuplicates()` function which will remove any rows with duplicate values"
      ],
      "metadata": {
        "id": "HcA8MLsuCAhL"
      }
    },
    {
      "cell_type": "code",
      "source": [
        "data = [\n",
        "    (1, \"Alice\", 30),\n",
        "    (2, \"Bob\", 25),\n",
        "    (3, \"Charlie\", 35)\n",
        "]\n",
        "\n",
        "# Define the schema for the DataFrame\n",
        "schema = StructType([\n",
        "    StructField(\"ID\", IntegerType(), True),\n",
        "    StructField(\"Name\", StringType(), True),\n",
        "    StructField(\"Age\", IntegerType(), True)\n",
        "])\n",
        "\n",
        "# Create DataFrame\n",
        "cre_df = spark.createDataFrame(data, schema=schema)\n",
        "\n",
        "# Show the resulting DataFrame\n",
        "cre_df.show()"
      ],
      "metadata": {
        "colab": {
          "base_uri": "https://localhost:8080/",
          "height": 0
        },
        "id": "YO1UeYo-6Mfh",
        "outputId": "3b1fac4a-db91-4c56-adac-00c3fc8f88e1"
      },
      "execution_count": 113,
      "outputs": [
        {
          "output_type": "stream",
          "name": "stdout",
          "text": [
            "+---+-------+---+\n",
            "| ID|   Name|Age|\n",
            "+---+-------+---+\n",
            "|  1|  Alice| 30|\n",
            "|  2|    Bob| 25|\n",
            "|  3|Charlie| 35|\n",
            "+---+-------+---+\n",
            "\n"
          ]
        }
      ]
    },
    {
      "cell_type": "markdown",
      "source": [
        "Q.33 Create a DataFrame from a list of tuples?\n"
      ],
      "metadata": {
        "id": "ExaVfWhTCQUM"
      }
    },
    {
      "cell_type": "code",
      "source": [
        "df.show(4)"
      ],
      "metadata": {
        "colab": {
          "base_uri": "https://localhost:8080/",
          "height": 0
        },
        "id": "gyVrUJzV7ZWZ",
        "outputId": "a04cd905-dc02-4e26-9ef8-b13c3ca2a792"
      },
      "execution_count": 114,
      "outputs": [
        {
          "output_type": "stream",
          "name": "stdout",
          "text": [
            "+---------+-------+------+--------------+-------------+-------------+-------------------------+---------------+-----------+\n",
            "|StudentID|   Name|Gender|AttendanceRate|Learning Time|PreviousGrade|ExtracurricularActivities|ParentalSupport|Final Score|\n",
            "+---------+-------+------+--------------+-------------+-------------+-------------------------+---------------+-----------+\n",
            "|        1|   John|  Male|            85|           15|           78|                        1|           High|         80|\n",
            "|        2|  Sarah|Female|            90|           20|           85|                        2|         Medium|         87|\n",
            "|        3|   Alex|  Male|            78|           10|           65|                        0|            Low|         68|\n",
            "|        4|Michael|  Male|            92|           25|           90|                        3|           High|         92|\n",
            "+---------+-------+------+--------------+-------------+-------------+-------------------------+---------------+-----------+\n",
            "only showing top 4 rows\n",
            "\n"
          ]
        }
      ]
    },
    {
      "cell_type": "markdown",
      "source": [
        "Q.34 Display the first few rows of a DataFrame?\n",
        "\n",
        "This can simply be done by passing a numerical value to the `show()` function"
      ],
      "metadata": {
        "id": "1Ftn3oLiCQXn"
      }
    },
    {
      "cell_type": "code",
      "source": [
        "from pyspark.sql import SparkSession\n",
        "from pyspark.sql import functions as F\n",
        "\n",
        "word_spark = SparkSession.builder.appName(\"WordCount\").getOrCreate()\n",
        "\n",
        "text_file = word_spark.read.text(\"/content/drive/MyDrive/Classroom/SYMCA24-25(BABI)/deus.txt\")\n",
        "\n",
        "words_df = text_file.select(explode(split(text_file.value, \" \")).alias(\"word\"))\n",
        "\n",
        "words_df = words_df.filter(words_df.word != \"\")\n",
        "\n",
        "word_counts = words_df.groupBy(\"word\").count().orderBy(F.desc(\"count\"))\n",
        "\n",
        "word_counts.show()\n"
      ],
      "metadata": {
        "colab": {
          "base_uri": "https://localhost:8080/",
          "height": 0
        },
        "id": "0sIEhlBx7_1W",
        "outputId": "5d98ffe5-8ec8-475b-d562-9bc6f39beeed"
      },
      "execution_count": 115,
      "outputs": [
        {
          "output_type": "stream",
          "name": "stdout",
          "text": [
            "+----------+-----+\n",
            "|      word|count|\n",
            "+----------+-----+\n",
            "|       the|    9|\n",
            "|       and|    9|\n",
            "|        to|    7|\n",
            "|        of|    6|\n",
            "|      will|    5|\n",
            "|      Homo|    5|\n",
            "|       new|    4|\n",
            "|        we|    4|\n",
            "|    happen|    3|\n",
            "|         –|    3|\n",
            "|      when|    3|\n",
            "|       our|    3|\n",
            "|        as|    3|\n",
            "|     might|    3|\n",
            "|   History|    2|\n",
            "|         a|    2|\n",
            "|         A|    2|\n",
            "|ourselves?|    2|\n",
            "|    planet|    2|\n",
            "|        As|    2|\n",
            "+----------+-----+\n",
            "only showing top 20 rows\n",
            "\n"
          ]
        }
      ]
    },
    {
      "cell_type": "markdown",
      "source": [
        "Q.35 Using SparkSession :perform a word count on a text file\n",
        "\n",
        "The steps to be followed for this are :  \n",
        "1. Start a session called wordCount\n",
        "2. Read the text file\n",
        "3. Split each line into work\n",
        "4. Filter out all the words that have resulted from multiple spaces\n",
        "5. Group by the word and count occurrences"
      ],
      "metadata": {
        "id": "W1b-e1CV7rI0"
      }
    },
    {
      "cell_type": "code",
      "source": [
        "from pyspark.sql import SparkSession\n",
        "\n",
        "sql_spark = SparkSession.builder.appName(\"SQLQuery\").getOrCreate()\n",
        "\n",
        "data_sql = [(1,\"Aaron Augustine\",\"Male\",21)\n",
        "            ,(2, \"Nandu Bhide\",\"Female\",22)\n",
        "            ,(3,\"Omar Abdullah\",\"Male\",23)]\n",
        "\n",
        "schema_sql = [\"ID\",\"Name\",\"Gender\",\"Age\"]\n",
        "\n",
        "df_sql = sql_spark.createDataFrame(data_sql, schema=schema_sql)\n",
        "\n",
        "df_sql.createOrReplaceTempView(\"people\")\n",
        "\n",
        "result_df = sql_spark.sql(\"SELECT * FROM people WHERE Age > 21\")\n",
        "result_df.show()"
      ],
      "metadata": {
        "colab": {
          "base_uri": "https://localhost:8080/",
          "height": 0
        },
        "id": "Uc_yNTBX_tdm",
        "outputId": "62efad68-2305-4e3e-a10e-42f12807f493"
      },
      "execution_count": 116,
      "outputs": [
        {
          "output_type": "stream",
          "name": "stdout",
          "text": [
            "+---+-------------+------+---+\n",
            "| ID|         Name|Gender|Age|\n",
            "+---+-------------+------+---+\n",
            "|  2|  Nandu Bhide|Female| 22|\n",
            "|  3|Omar Abdullah|  Male| 23|\n",
            "+---+-------------+------+---+\n",
            "\n"
          ]
        }
      ]
    },
    {
      "cell_type": "markdown",
      "source": [
        "Q.36 Create a SQL Table in PySpark <br>\n",
        "`AND`\n",
        "Q.47 Filter the rows based on a particular condition and count the number of rows <br>\n",
        "`AND`\n",
        "Q.48 Filter the rows based on a particular condition and display only a subset of features\n",
        "\n",
        "\n",
        "Create a data  tuple of information and then you can create the SQL table within it"
      ],
      "metadata": {
        "id": "7zeSLLby7rMt"
      }
    },
    {
      "cell_type": "code",
      "source": [
        "df_sql.show()"
      ],
      "metadata": {
        "colab": {
          "base_uri": "https://localhost:8080/",
          "height": 0
        },
        "id": "F9lyvWfQETXC",
        "outputId": "53006915-71d5-4986-aa1d-b928723e32be"
      },
      "execution_count": 117,
      "outputs": [
        {
          "output_type": "stream",
          "name": "stdout",
          "text": [
            "+---+---------------+------+---+\n",
            "| ID|           Name|Gender|Age|\n",
            "+---+---------------+------+---+\n",
            "|  1|Aaron Augustine|  Male| 21|\n",
            "|  2|    Nandu Bhide|Female| 22|\n",
            "|  3|  Omar Abdullah|  Male| 23|\n",
            "+---+---------------+------+---+\n",
            "\n"
          ]
        }
      ]
    },
    {
      "cell_type": "markdown",
      "source": [
        "\n",
        "Q.37 How to display a Specific Number of Rows\n",
        "\n",
        "Using the `show()` function"
      ],
      "metadata": {
        "id": "TWkVQjhx7rP3"
      }
    },
    {
      "cell_type": "code",
      "source": [
        "\n",
        "\n",
        "sum_age = df_sql.agg(sum(\"Age\")).collect()[0][0]\n",
        "\n",
        "print(f\"Sum of the Ages column : {sum_age} \")"
      ],
      "metadata": {
        "colab": {
          "base_uri": "https://localhost:8080/",
          "height": 0
        },
        "id": "yshCKogxFcgp",
        "outputId": "9a253fb0-ffcd-44b1-daa4-5ae38d55faac"
      },
      "execution_count": 118,
      "outputs": [
        {
          "output_type": "stream",
          "name": "stdout",
          "text": [
            "Sum of the Ages column : 66 \n"
          ]
        }
      ]
    },
    {
      "cell_type": "markdown",
      "source": [
        "\n",
        "Q.38 How do you compute the sum of a column?\n",
        "\n",
        "First we use the `agg()` function and then pass the name of the column to the `sum()` function that is imported from pyspark.sql.functions"
      ],
      "metadata": {
        "id": "xS7regWT7rSk"
      }
    },
    {
      "cell_type": "code",
      "source": [
        "columns = df_sql.columns\n",
        "\n",
        "selected_columns = [columns[i] for i in range(0,3)]\n",
        "\n",
        "df_selected = df_sql.select(*selected_columns)\n",
        "\n",
        "df_selected.show()"
      ],
      "metadata": {
        "colab": {
          "base_uri": "https://localhost:8080/",
          "height": 0
        },
        "id": "5mttEhULFcJC",
        "outputId": "6dfa740f-b919-4378-82c5-7f514cf301d5"
      },
      "execution_count": 119,
      "outputs": [
        {
          "output_type": "stream",
          "name": "stdout",
          "text": [
            "+---+---------------+------+\n",
            "| ID|           Name|Gender|\n",
            "+---+---------------+------+\n",
            "|  1|Aaron Augustine|  Male|\n",
            "|  2|    Nandu Bhide|Female|\n",
            "|  3|  Omar Abdullah|  Male|\n",
            "+---+---------------+------+\n",
            "\n"
          ]
        }
      ]
    },
    {
      "cell_type": "markdown",
      "source": [
        "\n",
        "Q.39 Select Columns using index\n",
        "\n",
        "\n",
        "This can be done by deciding on the column numbers to be selected and then creating a variable that will store the column names.\n",
        "\n"
      ],
      "metadata": {
        "id": "zzbalvP-7rU6"
      }
    },
    {
      "cell_type": "code",
      "source": [
        "df_with_new_col = df_sql.withColumn(\"Country\", lit(\"USA\"))\n",
        "\n",
        "# Show the DataFrame with the new column\n",
        "df_with_new_col.show()\n",
        "\n",
        "df_without_col = df_with_new_col.drop(\"Country\")\n",
        "\n",
        "df_without_col.show()"
      ],
      "metadata": {
        "colab": {
          "base_uri": "https://localhost:8080/",
          "height": 0
        },
        "id": "RvBmEMUyHzSi",
        "outputId": "9af45762-715c-49bc-83cf-dd1c0ce1aec4"
      },
      "execution_count": 120,
      "outputs": [
        {
          "output_type": "stream",
          "name": "stdout",
          "text": [
            "+---+---------------+------+---+-------+\n",
            "| ID|           Name|Gender|Age|Country|\n",
            "+---+---------------+------+---+-------+\n",
            "|  1|Aaron Augustine|  Male| 21|    USA|\n",
            "|  2|    Nandu Bhide|Female| 22|    USA|\n",
            "|  3|  Omar Abdullah|  Male| 23|    USA|\n",
            "+---+---------------+------+---+-------+\n",
            "\n",
            "+---+---------------+------+---+\n",
            "| ID|           Name|Gender|Age|\n",
            "+---+---------------+------+---+\n",
            "|  1|Aaron Augustine|  Male| 21|\n",
            "|  2|    Nandu Bhide|Female| 22|\n",
            "|  3|  Omar Abdullah|  Male| 23|\n",
            "+---+---------------+------+---+\n",
            "\n"
          ]
        }
      ]
    },
    {
      "cell_type": "markdown",
      "source": [
        "\n",
        "Q.40 Add and remove new column\n",
        "\n",
        "This can be done by using the `withColumn()` function and then dropped using the `drop()`"
      ],
      "metadata": {
        "id": "7Seoc5DT7rXT"
      }
    },
    {
      "cell_type": "code",
      "source": [
        "\n",
        "blank_data = [(4, \"Charlie\", \"\", 0)\n",
        "]\n",
        "extra_schema = df_sql.schema\n",
        "extra_df = sql_spark.createDataFrame(blank_data, schema=extra_schema)\n",
        "\n",
        "df_sql = df_sql.union(extra_df)\n",
        "\n",
        "df_sql.show()"
      ],
      "metadata": {
        "colab": {
          "base_uri": "https://localhost:8080/",
          "height": 0
        },
        "id": "xvrdoxacJwNu",
        "outputId": "4b9990f1-2428-497a-eb4c-89a96d1dca19"
      },
      "execution_count": 121,
      "outputs": [
        {
          "output_type": "stream",
          "name": "stdout",
          "text": [
            "+---+---------------+------+---+\n",
            "| ID|           Name|Gender|Age|\n",
            "+---+---------------+------+---+\n",
            "|  1|Aaron Augustine|  Male| 21|\n",
            "|  2|    Nandu Bhide|Female| 22|\n",
            "|  3|  Omar Abdullah|  Male| 23|\n",
            "|  4|        Charlie|      |  0|\n",
            "+---+---------------+------+---+\n",
            "\n"
          ]
        }
      ]
    },
    {
      "cell_type": "code",
      "source": [
        "df_replaced = df_sql.select([\n",
        "    when(col(c) == \"\", None).otherwise(col(c)).alias(c) for c in df_sql.columns\n",
        "])\n",
        "\n",
        "df_replaced.show()"
      ],
      "metadata": {
        "colab": {
          "base_uri": "https://localhost:8080/",
          "height": 0
        },
        "id": "VGsxGT_ULWsu",
        "outputId": "0be6240b-24b2-489c-c29d-0e80fe821412"
      },
      "execution_count": 122,
      "outputs": [
        {
          "output_type": "stream",
          "name": "stdout",
          "text": [
            "+---+---------------+------+---+\n",
            "| ID|           Name|Gender|Age|\n",
            "+---+---------------+------+---+\n",
            "|  1|Aaron Augustine|  Male| 21|\n",
            "|  2|    Nandu Bhide|Female| 22|\n",
            "|  3|  Omar Abdullah|  Male| 23|\n",
            "|  4|        Charlie|  NULL|  0|\n",
            "+---+---------------+------+---+\n",
            "\n"
          ]
        }
      ]
    },
    {
      "cell_type": "markdown",
      "source": [
        "Q.41 Replace all the blank values with NULL\n"
      ],
      "metadata": {
        "id": "Mws5O85D7rZf"
      }
    },
    {
      "cell_type": "code",
      "source": [
        "df_cleaned = df_replaced.dropna()\n",
        "\n",
        "df_cleaned.show()"
      ],
      "metadata": {
        "colab": {
          "base_uri": "https://localhost:8080/",
          "height": 0
        },
        "id": "OucoMBm8MrQW",
        "outputId": "229e643e-0c93-49a3-9714-1870cd19ab62"
      },
      "execution_count": 123,
      "outputs": [
        {
          "output_type": "stream",
          "name": "stdout",
          "text": [
            "+---+---------------+------+---+\n",
            "| ID|           Name|Gender|Age|\n",
            "+---+---------------+------+---+\n",
            "|  1|Aaron Augustine|  Male| 21|\n",
            "|  2|    Nandu Bhide|Female| 22|\n",
            "|  3|  Omar Abdullah|  Male| 23|\n",
            "+---+---------------+------+---+\n",
            "\n"
          ]
        }
      ]
    },
    {
      "cell_type": "markdown",
      "source": [
        "Q.42 Delete rows with Null values from any columns\n"
      ],
      "metadata": {
        "id": "CIfZf4647rcE"
      }
    },
    {
      "cell_type": "code",
      "source": [
        "df_specific_cleaned = df_replaced.dropna(subset=[\"Gender\"])\n"
      ],
      "metadata": {
        "id": "gNo3v_LDN9e_"
      },
      "execution_count": 124,
      "outputs": []
    },
    {
      "cell_type": "markdown",
      "source": [
        "Q.43 Delete the null values from a particular column\n"
      ],
      "metadata": {
        "id": "zvedqrK27rei"
      }
    },
    {
      "cell_type": "code",
      "source": [
        "df_filled = df_replaced.fillna(\"Unknown\")\n",
        "\n",
        "df_filled.show()"
      ],
      "metadata": {
        "colab": {
          "base_uri": "https://localhost:8080/",
          "height": 0
        },
        "id": "UzqMHdWlOHys",
        "outputId": "2007df54-8875-40ac-89e5-153f9e28889c"
      },
      "execution_count": 125,
      "outputs": [
        {
          "output_type": "stream",
          "name": "stdout",
          "text": [
            "+---+---------------+-------+---+\n",
            "| ID|           Name| Gender|Age|\n",
            "+---+---------------+-------+---+\n",
            "|  1|Aaron Augustine|   Male| 21|\n",
            "|  2|    Nandu Bhide| Female| 22|\n",
            "|  3|  Omar Abdullah|   Male| 23|\n",
            "|  4|        Charlie|Unknown|  0|\n",
            "+---+---------------+-------+---+\n",
            "\n"
          ]
        }
      ]
    },
    {
      "cell_type": "markdown",
      "source": [
        "Q.44 Fill all null values in a dataframe with a values\n"
      ],
      "metadata": {
        "id": "pNw3CMGf76sk"
      }
    },
    {
      "cell_type": "code",
      "source": [
        "df_filled = df_replaced.fillna({'Gender': 'Missing'})\n",
        "\n",
        "df_filled.show()"
      ],
      "metadata": {
        "colab": {
          "base_uri": "https://localhost:8080/",
          "height": 0
        },
        "id": "q7GoYVdnOS5n",
        "outputId": "053cb09c-8c29-4a2e-9b3c-ee55cb7498a1"
      },
      "execution_count": 126,
      "outputs": [
        {
          "output_type": "stream",
          "name": "stdout",
          "text": [
            "+---+---------------+-------+---+\n",
            "| ID|           Name| Gender|Age|\n",
            "+---+---------------+-------+---+\n",
            "|  1|Aaron Augustine|   Male| 21|\n",
            "|  2|    Nandu Bhide| Female| 22|\n",
            "|  3|  Omar Abdullah|   Male| 23|\n",
            "|  4|        Charlie|Missing|  0|\n",
            "+---+---------------+-------+---+\n",
            "\n"
          ]
        }
      ]
    },
    {
      "cell_type": "markdown",
      "source": [
        "Q.45 Fill null value of a particuar column with missing value\n"
      ],
      "metadata": {
        "id": "ybZk5bXn76vV"
      }
    },
    {
      "cell_type": "code",
      "source": [
        "david = [(5, \"David goggins\", None,None)]\n",
        "\n",
        "david_add = sql_spark.createDataFrame(david, schema=extra_schema)\n",
        "\n",
        "df_replaced = df_replaced.union(david_add)\n",
        "mean_age = df_replaced.select(mean(col(\"Age\"))).first()[0]\n",
        "\n",
        "# Fill NULL values in the 'Age' column with the mean value\n",
        "df_filled = df_replaced.fillna({'Age': mean_age})\n",
        "\n",
        "# Show the DataFrame after filling NULL values with the mean\n",
        "df_filled.show()"
      ],
      "metadata": {
        "colab": {
          "base_uri": "https://localhost:8080/",
          "height": 0
        },
        "id": "8e1tkrecOmbq",
        "outputId": "bf59b999-e159-4ac2-9929-b1e9d7198763"
      },
      "execution_count": 127,
      "outputs": [
        {
          "output_type": "stream",
          "name": "stdout",
          "text": [
            "+---+---------------+------+---+\n",
            "| ID|           Name|Gender|Age|\n",
            "+---+---------------+------+---+\n",
            "|  1|Aaron Augustine|  Male| 21|\n",
            "|  2|    Nandu Bhide|Female| 22|\n",
            "|  3|  Omar Abdullah|  Male| 23|\n",
            "|  4|        Charlie|  NULL|  0|\n",
            "|  5|  David goggins|  NULL| 16|\n",
            "+---+---------------+------+---+\n",
            "\n"
          ]
        }
      ]
    },
    {
      "cell_type": "markdown",
      "source": [
        "Q.46 Fill Null value of a particular column with mean of that column"
      ],
      "metadata": {
        "id": "yjHPLwdc76yx"
      }
    },
    {
      "cell_type": "code",
      "source": [
        "filtered_df = df_sql.filter((col(\"Gender\") == \"Male\") & (col(\"Age\") > 18))\n",
        "\n",
        "# Show the filtered DataFrame\n",
        "filtered_df.show()"
      ],
      "metadata": {
        "id": "-AVULFJtOnFZ",
        "colab": {
          "base_uri": "https://localhost:8080/",
          "height": 0
        },
        "outputId": "a7e86d61-7eb6-4141-a7a9-b9ec9c5ee568"
      },
      "execution_count": 128,
      "outputs": [
        {
          "output_type": "stream",
          "name": "stdout",
          "text": [
            "+---+---------------+------+---+\n",
            "| ID|           Name|Gender|Age|\n",
            "+---+---------------+------+---+\n",
            "|  1|Aaron Augustine|  Male| 21|\n",
            "|  3|  Omar Abdullah|  Male| 23|\n",
            "+---+---------------+------+---+\n",
            "\n"
          ]
        }
      ]
    },
    {
      "cell_type": "markdown",
      "source": [
        "Q.49 Filter the rows based on a multiple condition where the conditions are combined with 'and'\n",
        "\n",
        "Here we can use the `and` keyword to create another additional condition while looking for certain rows\n"
      ],
      "metadata": {
        "id": "4wI4hLlzOp_5"
      }
    },
    {
      "cell_type": "code",
      "source": [
        "filtered_df = df_sql.filter((col(\"Gender\") == \"Male\") | (col(\"Age\") > 18))\n",
        "\n",
        "# Show the filtered DataFrame\n",
        "filtered_df.show()"
      ],
      "metadata": {
        "colab": {
          "base_uri": "https://localhost:8080/",
          "height": 0
        },
        "id": "RovsnJDOwhUq",
        "outputId": "eba16157-4151-40d3-80dc-1c2045b77d99"
      },
      "execution_count": 129,
      "outputs": [
        {
          "output_type": "stream",
          "name": "stdout",
          "text": [
            "+---+---------------+------+---+\n",
            "| ID|           Name|Gender|Age|\n",
            "+---+---------------+------+---+\n",
            "|  1|Aaron Augustine|  Male| 21|\n",
            "|  2|    Nandu Bhide|Female| 22|\n",
            "|  3|  Omar Abdullah|  Male| 23|\n",
            "+---+---------------+------+---+\n",
            "\n"
          ]
        }
      ]
    },
    {
      "cell_type": "markdown",
      "source": [
        "Q.50 Filter the rows based on a multiple condition where the conditions are combined with 'Or'\n",
        "\n",
        "Using the `|` operator we can make it so that if the given rows satisfy either condition then they will get selected\n"
      ],
      "metadata": {
        "id": "jFBZK6CMOqDU"
      }
    },
    {
      "cell_type": "code",
      "source": [
        "dept_data = [\n",
        "    (\"Aaron\", \"Tech\", 1000000),\n",
        "    (\"Tejas\", \"IT\", 600000),\n",
        "    (\"Somesh\", \"Finance\", 700000),\n",
        "    (\"Deepak\", \"Tech\", 330000),\n",
        "    (\"Mitesh\", \"IT\", 200000),\n",
        "    (\"Abhisheik\", \"Finance\", 4000000)\n",
        "]\n",
        "dept_schema = [\"Name\", \"Department\", \"Salary\"]\n",
        "\n",
        "dept_df = sql_spark.createDataFrame(dept_data, schema=dept_schema)\n",
        "\n",
        "# Group by Name and sum the Salary\n",
        "grouped_df = dept_df.groupBy(\"Name\").agg(sum(\"Salary\").alias(\"Total_Salary\"))\n",
        "\n",
        "grouped_df.show()"
      ],
      "metadata": {
        "colab": {
          "base_uri": "https://localhost:8080/",
          "height": 0
        },
        "id": "AUJAYURyxE0i",
        "outputId": "89e5f2d3-e620-4d04-9a72-d6b8e144cbff"
      },
      "execution_count": 131,
      "outputs": [
        {
          "output_type": "stream",
          "name": "stdout",
          "text": [
            "+---------+------------+\n",
            "|     Name|Total_Salary|\n",
            "+---------+------------+\n",
            "|   Somesh|      700000|\n",
            "|    Tejas|      600000|\n",
            "|    Aaron|     1000000|\n",
            "|   Deepak|      330000|\n",
            "|   Mitesh|      200000|\n",
            "|Abhisheik|     4000000|\n",
            "+---------+------------+\n",
            "\n"
          ]
        }
      ]
    },
    {
      "cell_type": "markdown",
      "source": [
        "Q.51 Create a dataframe having three columns Name, department and Salary. implement group by aggregation function on name and sum salary\n"
      ],
      "metadata": {
        "id": "hLNIh76HOqH5"
      }
    },
    {
      "cell_type": "code",
      "source": [
        "avg_salary_df = dept_df.groupBy(\"Name\").agg(avg(\"Salary\").alias(\"Average_Salary\"))\n",
        "\n",
        "# Show the result\n",
        "avg_salary_df.show()"
      ],
      "metadata": {
        "colab": {
          "base_uri": "https://localhost:8080/",
          "height": 0
        },
        "id": "QjnV_ra-xFRl",
        "outputId": "53a3f040-8637-4dd3-820d-d5bc3cb139f6"
      },
      "execution_count": 136,
      "outputs": [
        {
          "output_type": "stream",
          "name": "stdout",
          "text": [
            "+---------+--------------+\n",
            "|     Name|Average_Salary|\n",
            "+---------+--------------+\n",
            "|   Somesh|      700000.0|\n",
            "|    Tejas|      600000.0|\n",
            "|    Aaron|     1000000.0|\n",
            "|   Deepak|      330000.0|\n",
            "|   Mitesh|      200000.0|\n",
            "|Abhisheik|     4000000.0|\n",
            "+---------+--------------+\n",
            "\n"
          ]
        }
      ]
    },
    {
      "cell_type": "markdown",
      "source": [
        "Q.52 Find the average salry of each person\n"
      ],
      "metadata": {
        "id": "c5igjxCyOqO6"
      }
    },
    {
      "cell_type": "code",
      "source": [
        "\n",
        "# Define thresholds t1 and t2\n",
        "t1 = 300000\n",
        "t2 = 1000000\n",
        "\n",
        "# Filter DataFrame where Salary is between t1 and t2\n",
        "salary_df = dept_df.filter(col(\"Salary\").between(t1, t2))\n",
        "\n",
        "# Select and display the Name and Department columns\n",
        "salary_df.select(\"Name\", \"Department\").show()"
      ],
      "metadata": {
        "colab": {
          "base_uri": "https://localhost:8080/",
          "height": 0
        },
        "id": "DxDxaOgwxFoO",
        "outputId": "2829ccbf-ba73-49ea-d598-a4bf27ecb41b"
      },
      "execution_count": 137,
      "outputs": [
        {
          "output_type": "stream",
          "name": "stdout",
          "text": [
            "+------+----------+\n",
            "|  Name|Department|\n",
            "+------+----------+\n",
            "| Aaron|      Tech|\n",
            "| Tejas|        IT|\n",
            "|Somesh|   Finance|\n",
            "|Deepak|      Tech|\n",
            "+------+----------+\n",
            "\n"
          ]
        }
      ]
    },
    {
      "cell_type": "markdown",
      "source": [
        "Q.53 Find the salary of people in the department where salary is between t1 and t2, where t1 and t2 are two integers. Display the names and their department\n",
        "\n",
        "This is done by first getting the row values that contain salary between the range of `3,00,000` and `10,00,000` by using the `between()` function along with the `filter()` function\n",
        "\n",
        "Then finally using the `select()` function to access the columns"
      ],
      "metadata": {
        "id": "httMJSLAO0GS"
      }
    }
  ]
}